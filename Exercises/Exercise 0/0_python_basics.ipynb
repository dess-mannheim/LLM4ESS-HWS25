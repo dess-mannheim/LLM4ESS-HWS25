{
 "cells": [
  {
   "cell_type": "markdown",
   "id": "07cf4577",
   "metadata": {},
   "source": [
    "# Exercise 0 - Python basics\n",
    "_By Abigail Hayes._\n",
    "\n",
    "This exercise concerns basics for handling text and numeric data in Python. We will cover the following:\n",
    "- Handling strings\n",
    "- Working with text data in Pandas data frames\n",
    "- Numpy arrays\n",
    "\n",
    "There will then be the opportunity to try further variants yourself.\n",
    "\n",
    "## Setup\n",
    "\n",
    "First we will set up our environment.\n",
    "\n",
    "### Environment\n",
    "\n",
    "If these Python packages are not yet available in your environment, then you should install them.\n",
    "- numpy - for working with data\n",
    "- pandas - for data analysis"
   ]
  },
  {
   "cell_type": "code",
   "execution_count": 1,
   "id": "b0a46c1b",
   "metadata": {},
   "outputs": [],
   "source": [
    "import pandas as pd\n",
    "import numpy as np"
   ]
  },
  {
   "cell_type": "markdown",
   "id": "5109eb38",
   "metadata": {},
   "source": [
    "## Working with strings\n",
    "\n",
    "Within Python, text is referred to as a `string`. We can work with this as an object."
   ]
  },
  {
   "cell_type": "code",
   "execution_count": 2,
   "id": "d89fc5e7",
   "metadata": {},
   "outputs": [
    {
     "name": "stdout",
     "output_type": "stream",
     "text": [
      "This is a very important text string.\n"
     ]
    }
   ],
   "source": [
    "example = 'This is a very important text string.'\n",
    "\n",
    "print(example)"
   ]
  },
  {
   "cell_type": "code",
   "execution_count": 3,
   "id": "215be2d4",
   "metadata": {},
   "outputs": [
    {
     "data": {
      "text/plain": [
       "'This is a very important text string.This is a very important text string.'"
      ]
     },
     "execution_count": 3,
     "metadata": {},
     "output_type": "execute_result"
    }
   ],
   "source": [
    "example + example"
   ]
  },
  {
   "cell_type": "code",
   "execution_count": 4,
   "id": "91254fa7",
   "metadata": {},
   "outputs": [
    {
     "data": {
      "text/plain": [
       "'This is a '"
      ]
     },
     "execution_count": 4,
     "metadata": {},
     "output_type": "execute_result"
    }
   ],
   "source": [
    "example[:10]"
   ]
  },
  {
   "cell_type": "code",
   "execution_count": 5,
   "id": "4eb7684e",
   "metadata": {},
   "outputs": [
    {
     "data": {
      "text/plain": [
       "False"
      ]
     },
     "execution_count": 5,
     "metadata": {},
     "output_type": "execute_result"
    }
   ],
   "source": [
    "example.startswith('Hello')"
   ]
  },
  {
   "cell_type": "code",
   "execution_count": 6,
   "id": "9c32231f",
   "metadata": {},
   "outputs": [
    {
     "name": "stdout",
     "output_type": "stream",
     "text": [
      "This is a very important text string.\n",
      "This is a very important announcement.\n"
     ]
    }
   ],
   "source": [
    "example2 = example.replace('text string', 'announcement')\n",
    "\n",
    "print(example)\n",
    "print(example2)"
   ]
  },
  {
   "cell_type": "markdown",
   "id": "de378a53",
   "metadata": {},
   "source": [
    "## Task 1\n",
    "\n",
    "Now have a go yourselves. \n",
    "\n",
    "Can you use Python string methods to:\n",
    "- Check whether my_number contains only numbers?\n",
    "- Replace 'YOURNAME' in my_name with your name?"
   ]
  },
  {
   "cell_type": "code",
   "execution_count": 7,
   "id": "502a8307",
   "metadata": {},
   "outputs": [],
   "source": [
    "my_number = '09709709'\n"
   ]
  },
  {
   "cell_type": "code",
   "execution_count": 8,
   "id": "e01686db",
   "metadata": {},
   "outputs": [],
   "source": [
    "my_name = 'Hello! My name is YOURNAME.'\n"
   ]
  },
  {
   "cell_type": "markdown",
   "id": "89c520e0",
   "metadata": {},
   "source": [
    "## Text in Pandas data frames\n",
    "\n",
    "Generally we won't be working with just one string at a time. Often, we will have a whole dataframe full of different strings.\n",
    "\n",
    "Here we have a toy data frame to practice on:"
   ]
  },
  {
   "cell_type": "code",
   "execution_count": 9,
   "id": "190d6e43",
   "metadata": {},
   "outputs": [
    {
     "name": "stdout",
     "output_type": "stream",
     "text": [
      "   subject                                           feedback difficulty_level\n",
      "0    Maths  Challenging but fun once you understand the co...             High\n",
      "1  Science        Exciting experiments make it very engaging.           Medium\n",
      "2  History  Lots of dates to memorise, but the stories are...           Medium\n",
      "3  English          Improved my writing skills significantly.              Low\n",
      "4      Art        Allows creative expression and I feel free.              Low\n"
     ]
    }
   ],
   "source": [
    "data = {\n",
    "    'subject': ['Maths', 'Science', 'History', 'English', 'Art'],\n",
    "    'feedback': [\n",
    "        'Challenging but fun once you understand the concepts.',\n",
    "        'Exciting experiments make it very engaging.',\n",
    "        'Lots of dates to memorise, but the stories are interesting.',\n",
    "        'Improved my writing skills significantly.',\n",
    "        'Allows creative expression and I feel free.'\n",
    "    ],\n",
    "    'difficulty_level': ['High', 'Medium', 'Medium', 'Low', 'Low']\n",
    "}\n",
    "\n",
    "df = pd.DataFrame(data)\n",
    "\n",
    "print(df)"
   ]
  },
  {
   "cell_type": "markdown",
   "id": "27435fbf",
   "metadata": {},
   "source": [
    "We can use the same methods on a whole column."
   ]
  },
  {
   "cell_type": "code",
   "execution_count": 10,
   "id": "57d0c48e",
   "metadata": {},
   "outputs": [
    {
     "data": {
      "application/vnd.microsoft.datawrangler.viewer.v0+json": {
       "columns": [
        {
         "name": "index",
         "rawType": "int64",
         "type": "integer"
        },
        {
         "name": "feedback",
         "rawType": "object",
         "type": "string"
        }
       ],
       "ref": "0c14f3bd-b511-430c-accc-f8bfa61253f3",
       "rows": [
        [
         "0",
         "Challenging but fun once you understand the concepts."
        ],
        [
         "1",
         "Exciting experiments make it very engaging."
        ],
        [
         "2",
         "Lots of dates to memorise, but the stories are interesting."
        ],
        [
         "3",
         "Improved my writing skills significantly."
        ],
        [
         "4",
         "Allows creative expression and I feel free."
        ]
       ],
       "shape": {
        "columns": 1,
        "rows": 5
       }
      },
      "text/plain": [
       "0    Challenging but fun once you understand the co...\n",
       "1          Exciting experiments make it very engaging.\n",
       "2    Lots of dates to memorise, but the stories are...\n",
       "3            Improved my writing skills significantly.\n",
       "4          Allows creative expression and I feel free.\n",
       "Name: feedback, dtype: object"
      ]
     },
     "execution_count": 10,
     "metadata": {},
     "output_type": "execute_result"
    }
   ],
   "source": [
    "df['feedback']"
   ]
  },
  {
   "cell_type": "code",
   "execution_count": 11,
   "id": "4c47e294",
   "metadata": {},
   "outputs": [
    {
     "data": {
      "application/vnd.microsoft.datawrangler.viewer.v0+json": {
       "columns": [
        {
         "name": "index",
         "rawType": "int64",
         "type": "integer"
        },
        {
         "name": "feedback",
         "rawType": "bool",
         "type": "boolean"
        }
       ],
       "ref": "c993ffef-f80a-4300-9dd3-9263d82518e3",
       "rows": [
        [
         "0",
         "False"
        ],
        [
         "1",
         "False"
        ],
        [
         "2",
         "True"
        ],
        [
         "3",
         "False"
        ],
        [
         "4",
         "False"
        ]
       ],
       "shape": {
        "columns": 1,
        "rows": 5
       }
      },
      "text/plain": [
       "0    False\n",
       "1    False\n",
       "2     True\n",
       "3    False\n",
       "4    False\n",
       "Name: feedback, dtype: bool"
      ]
     },
     "execution_count": 11,
     "metadata": {},
     "output_type": "execute_result"
    }
   ],
   "source": [
    "df['feedback'].str.startswith('L')"
   ]
  },
  {
   "cell_type": "markdown",
   "id": "cee6ec04",
   "metadata": {},
   "source": [
    "## Task 2\n",
    "\n",
    "Can you add another column containing only the first word of the feedback? Call it 'headline'."
   ]
  },
  {
   "cell_type": "code",
   "execution_count": null,
   "id": "46dc014f",
   "metadata": {},
   "outputs": [],
   "source": []
  },
  {
   "cell_type": "markdown",
   "id": "00ac5627",
   "metadata": {},
   "source": [
    "## Numpy arrays\n",
    "\n",
    "Now we will look at Numpy arrays. They are generally used for numeric data, but can also handle other types too."
   ]
  },
  {
   "cell_type": "code",
   "execution_count": 12,
   "id": "d3b4c22c",
   "metadata": {},
   "outputs": [
    {
     "name": "stdout",
     "output_type": "stream",
     "text": [
      "[[ 1  2  3]\n",
      " [ 2  4  6]\n",
      " [ 7  9 13]]\n",
      "(3, 3)\n"
     ]
    }
   ],
   "source": [
    "x = np.array([[1,2,3], [2,4,6], [7,9,13]])\n",
    "\n",
    "print(x)\n",
    "print(x.shape)"
   ]
  },
  {
   "cell_type": "code",
   "execution_count": 13,
   "id": "75de3592",
   "metadata": {},
   "outputs": [
    {
     "data": {
      "text/plain": [
       "array([[0.01, 0.02, 0.03],\n",
       "       [0.02, 0.04, 0.06],\n",
       "       [0.07, 0.09, 0.13]])"
      ]
     },
     "execution_count": 13,
     "metadata": {},
     "output_type": "execute_result"
    }
   ],
   "source": [
    "x/100"
   ]
  },
  {
   "cell_type": "code",
   "execution_count": 14,
   "id": "c2aa8b55",
   "metadata": {},
   "outputs": [
    {
     "data": {
      "text/plain": [
       "array([[ 2,  4,  6],\n",
       "       [ 4,  8, 12],\n",
       "       [14, 18, 26]])"
      ]
     },
     "execution_count": 14,
     "metadata": {},
     "output_type": "execute_result"
    }
   ],
   "source": [
    "x+x"
   ]
  },
  {
   "cell_type": "code",
   "execution_count": 15,
   "id": "f09864df",
   "metadata": {},
   "outputs": [
    {
     "data": {
      "text/plain": [
       "3"
      ]
     },
     "execution_count": 15,
     "metadata": {},
     "output_type": "execute_result"
    }
   ],
   "source": [
    "x[0,2]"
   ]
  },
  {
   "cell_type": "markdown",
   "id": "60aa421a",
   "metadata": {},
   "source": [
    "## Task 3\n",
    "\n",
    "Can you:\n",
    "- Slice `x` to only have the last column?\n",
    "- Check which values in `x` are larger than 10?\n",
    "- Replace 13 with 14?\n",
    "- Get the transpose of the array?"
   ]
  },
  {
   "cell_type": "code",
   "execution_count": null,
   "id": "529ca4b1",
   "metadata": {},
   "outputs": [],
   "source": []
  },
  {
   "cell_type": "code",
   "execution_count": null,
   "id": "98adbcac",
   "metadata": {},
   "outputs": [],
   "source": []
  },
  {
   "cell_type": "code",
   "execution_count": null,
   "id": "bad5bd39",
   "metadata": {},
   "outputs": [],
   "source": []
  },
  {
   "cell_type": "code",
   "execution_count": null,
   "id": "221b631e",
   "metadata": {},
   "outputs": [],
   "source": []
  }
 ],
 "metadata": {
  "kernelspec": {
   "display_name": "llms_hws25",
   "language": "python",
   "name": "python3"
  },
  "language_info": {
   "codemirror_mode": {
    "name": "ipython",
    "version": 3
   },
   "file_extension": ".py",
   "mimetype": "text/x-python",
   "name": "python",
   "nbconvert_exporter": "python",
   "pygments_lexer": "ipython3",
   "version": "3.11.13"
  }
 },
 "nbformat": 4,
 "nbformat_minor": 5
}
